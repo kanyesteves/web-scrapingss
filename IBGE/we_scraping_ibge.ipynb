{
 "cells": [
  {
   "cell_type": "code",
   "execution_count": 106,
   "id": "e2342972-7a41-4552-930f-1e1b67b11fdc",
   "metadata": {},
   "outputs": [],
   "source": [
    "import requests\n",
    "from bs4 import BeautifulSoup\n",
    "import pandas as pd\n",
    "import re"
   ]
  },
  {
   "cell_type": "code",
   "execution_count": 107,
   "id": "04d8c344-7d98-4203-adfd-f6a4808b81bb",
   "metadata": {},
   "outputs": [],
   "source": [
    "def remove_html(html):\n",
    "    pattern = re.compile('<.*?>')\n",
    "    cleantext = re.sub(pattern, '', html)\n",
    "    return cleantext.replace('*', '').strip()"
   ]
  },
  {
   "cell_type": "code",
   "execution_count": 118,
   "id": "93706a92-2d23-4ac7-9bab-29da550672e1",
   "metadata": {},
   "outputs": [],
   "source": [
    "def main(response):\n",
    "    soup = BeautifulSoup(response.content, 'html.parser')\n",
    "    url = scraping_uf('sc')\n",
    "    indicadores = soup.select('.indicador') \n",
    "\n",
    "    estado = {\n",
    "        dado.select('.ind-label')[0].text: dado.select('.ind-value')[0].text\n",
    "        for dado in indicadores\n",
    "    }\n",
    "\n",
    "    for indicador in estado:\n",
    "        if ']' in estado[indicador]:\n",
    "            estado[indicador] = estado[indicador].split(']')[0][:-8]\n",
    "        else:\n",
    "            estado[indicador] = estado[indicador]\n",
    "\n",
    "    return pd.DataFrame(estado.values(), index=estado.keys())"
   ]
  },
  {
   "cell_type": "code",
   "execution_count": 119,
   "id": "d8bf71c6-23b4-4b28-b4a3-b07c7f798c6b",
   "metadata": {},
   "outputs": [],
   "source": [
    "def scraping_uf(uf: str):\n",
    "    return f'https://www.ibge.gov.br/cidades-e-estados/{uf}.html'\n"
   ]
  },
  {
   "cell_type": "code",
   "execution_count": 120,
   "id": "efcf9398-a350-4990-a6eb-289243243f3d",
   "metadata": {},
   "outputs": [],
   "source": [
    "headers = {\n",
    "    'User-Agent': 'Mozilla/5.0 (Windows NT 10.0; Win64; x64) AppleWebKit/537.36 (KHTML, like Gecko) Chrome/58.0.3029.110 Safari/537.3',\n",
    "    'Referer': 'https://www.ibge.gov.br/cidades-e-estados'\n",
    "}\n",
    "\n",
    "url = scraping_uf('sc')\n",
    "response = requests.get(url, headers=headers)"
   ]
  },
  {
   "cell_type": "code",
   "execution_count": 121,
   "id": "3bd1f021-8ce5-4011-a192-cf60232abba4",
   "metadata": {},
   "outputs": [
    {
     "name": "stdout",
     "output_type": "stream",
     "text": [
      "Sucesso !!\n"
     ]
    }
   ],
   "source": [
    "if response.status_code == 200:\n",
    "    print(\"Sucesso !!\")\n",
    "else:\n",
    "    print(f'ERRO {response.status_code}')"
   ]
  },
  {
   "cell_type": "code",
   "execution_count": 122,
   "id": "cf2e93ed-f8b4-46d7-8d1e-a8f5c934486f",
   "metadata": {},
   "outputs": [
    {
     "data": {
      "text/html": [
       "<div>\n",
       "<style scoped>\n",
       "    .dataframe tbody tr th:only-of-type {\n",
       "        vertical-align: middle;\n",
       "    }\n",
       "\n",
       "    .dataframe tbody tr th {\n",
       "        vertical-align: top;\n",
       "    }\n",
       "\n",
       "    .dataframe thead th {\n",
       "        text-align: right;\n",
       "    }\n",
       "</style>\n",
       "<table border=\"1\" class=\"dataframe\">\n",
       "  <thead>\n",
       "    <tr style=\"text-align: right;\">\n",
       "      <th></th>\n",
       "      <th>0</th>\n",
       "    </tr>\n",
       "  </thead>\n",
       "  <tbody>\n",
       "    <tr>\n",
       "      <th>Governador</th>\n",
       "      <td>JORGINHO DOS SANTOS MELLO</td>\n",
       "    </tr>\n",
       "    <tr>\n",
       "      <th>Capital</th>\n",
       "      <td>Florianópolis</td>\n",
       "    </tr>\n",
       "    <tr>\n",
       "      <th>Gentílico</th>\n",
       "      <td>catarinense ou barriga-verde</td>\n",
       "    </tr>\n",
       "    <tr>\n",
       "      <th>Área Territorial</th>\n",
       "      <td>95.730,690 km²</td>\n",
       "    </tr>\n",
       "    <tr>\n",
       "      <th>População residente</th>\n",
       "      <td>7.610.361 pessoas</td>\n",
       "    </tr>\n",
       "    <tr>\n",
       "      <th>Densidade demográfica</th>\n",
       "      <td>79,50 hab/km²</td>\n",
       "    </tr>\n",
       "    <tr>\n",
       "      <th>Matrículas no ensino fundamental</th>\n",
       "      <td>900.240 matrículas</td>\n",
       "    </tr>\n",
       "    <tr>\n",
       "      <th>IDH Índice de desenvolvimento humano</th>\n",
       "      <td>0,792</td>\n",
       "    </tr>\n",
       "    <tr>\n",
       "      <th>Receitas realizadas</th>\n",
       "      <td>34.696.772,82 R$ (×1000)</td>\n",
       "    </tr>\n",
       "    <tr>\n",
       "      <th>Despesas empenhadas</th>\n",
       "      <td>25.595.103,38 R$ (×1000)</td>\n",
       "    </tr>\n",
       "    <tr>\n",
       "      <th>Rendimento mensal domiciliar per capita</th>\n",
       "      <td>2.018 R$</td>\n",
       "    </tr>\n",
       "    <tr>\n",
       "      <th>Total de veículos</th>\n",
       "      <td>5.974.106 veículos</td>\n",
       "    </tr>\n",
       "  </tbody>\n",
       "</table>\n",
       "</div>"
      ],
      "text/plain": [
       "                                                                    0\n",
       "Governador                                  JORGINHO DOS SANTOS MELLO\n",
       "Capital                                                 Florianópolis\n",
       "Gentílico                                catarinense ou barriga-verde\n",
       "Área Territorial                                       95.730,690 km²\n",
       "População residente                                 7.610.361 pessoas\n",
       "Densidade demográfica                                   79,50 hab/km²\n",
       "Matrículas no ensino fundamental                  900.240 matrículas\n",
       "IDH Índice de desenvolvimento humano                           0,792\n",
       "Receitas realizadas                          34.696.772,82 R$ (×1000)\n",
       "Despesas empenhadas                          25.595.103,38 R$ (×1000)\n",
       "Rendimento mensal domiciliar per capita                      2.018 R$\n",
       "Total de veículos                                  5.974.106 veículos"
      ]
     },
     "execution_count": 122,
     "metadata": {},
     "output_type": "execute_result"
    }
   ],
   "source": [
    "main(response)"
   ]
  },
  {
   "cell_type": "code",
   "execution_count": null,
   "id": "960f2a5f-757d-4fed-9bcc-6c171c392ba5",
   "metadata": {},
   "outputs": [],
   "source": []
  }
 ],
 "metadata": {
  "kernelspec": {
   "display_name": "Python 3 (ipykernel)",
   "language": "python",
   "name": "python3"
  },
  "language_info": {
   "codemirror_mode": {
    "name": "ipython",
    "version": 3
   },
   "file_extension": ".py",
   "mimetype": "text/x-python",
   "name": "python",
   "nbconvert_exporter": "python",
   "pygments_lexer": "ipython3",
   "version": "3.11.4"
  }
 },
 "nbformat": 4,
 "nbformat_minor": 5
}
